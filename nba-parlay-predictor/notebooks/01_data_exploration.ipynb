{
 "cells": [
  {
   "cell_type": "markdown",
   "id": "a5b73762",
   "metadata": {},
   "source": [
    "# NBA Parlay Betting Analysis - Data Exploration\n",
    "\n",
    "This notebook explores the NBA game data and betting odds to understand patterns that might be useful for parlay betting."
   ]
  },
  {
   "cell_type": "code",
   "execution_count": null,
   "id": "a5fe4f23",
   "metadata": {},
   "outputs": [],
   "source": [
    "# Import necessary libraries\n",
    "import pandas as pd\n",
    "import numpy as np\n",
    "import matplotlib.pyplot as plt\n",
    "import seaborn as sns\n",
    "\n",
    "# Set plot style\n",
    "sns.set_style('whitegrid')\n",
    "plt.rcParams['figure.figsize'] = (12, 8)"
   ]
  },
  {
   "cell_type": "code",
   "execution_count": null,
   "id": "63eb1058",
   "metadata": {},
   "outputs": [],
   "source": [
    "# Add the src directory to the path so we can import our modules\n",
    "import sys\n",
    "import os\n",
    "\n",
    "# Get the absolute path to the project root\n",
    "project_root = os.path.abspath(os.path.join(os.getcwd(), '..'))\n",
    "if project_root not in sys.path:\n",
    "    sys.path.append(project_root)\n",
    "print(f\"Added {project_root} to Python path\")"
   ]
  }
 ],
 "metadata": {},
 "nbformat": 4,
 "nbformat_minor": 5
}
