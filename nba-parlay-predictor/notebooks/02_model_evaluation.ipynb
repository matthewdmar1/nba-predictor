{
 "cells": [
  {
   "cell_type": "markdown",
   "id": "c11791d9",
   "metadata": {},
   "source": [
    "# NBA Parlay Betting Analysis - Model Evaluation\n",
    "\n",
    "This notebook evaluates different models for NBA game predictions and parlay generation."
   ]
  },
  {
   "cell_type": "code",
   "execution_count": 1,
   "id": "e7d6cd50",
   "metadata": {},
   "outputs": [],
   "source": [
    "# Import necessary libraries\n",
    "import pandas as pd\n",
    "import numpy as np\n",
    "import matplotlib.pyplot as plt\n",
    "import seaborn as sns\n",
    "\n",
    "# Set plot style\n",
    "sns.set_style('whitegrid')\n",
    "plt.rcParams['figure.figsize'] = (12, 8)"
   ]
  },
  {
   "cell_type": "code",
   "execution_count": 2,
   "id": "56f26f26",
   "metadata": {},
   "outputs": [
    {
     "name": "stdout",
     "output_type": "stream",
     "text": [
      "Added c:\\Users\\matth\\CSCE420\\project-matthewdmar1\\nba-parlay-predictor to Python path\n"
     ]
    }
   ],
   "source": [
    "# Add the src directory to the path so we can import our modules\n",
    "import sys\n",
    "import os\n",
    "\n",
    "# Get the absolute path to the project root\n",
    "project_root = os.path.abspath(os.path.join(os.getcwd(), '..'))\n",
    "if project_root not in sys.path:\n",
    "    sys.path.append(project_root)\n",
    "print(f\"Added {project_root} to Python path\")"
   ]
  }
 ],
 "metadata": {
  "kernelspec": {
   "display_name": ".venv",
   "language": "python",
   "name": "python3"
  },
  "language_info": {
   "codemirror_mode": {
    "name": "ipython",
    "version": 3
   },
   "file_extension": ".py",
   "mimetype": "text/x-python",
   "name": "python",
   "nbconvert_exporter": "python",
   "pygments_lexer": "ipython3",
   "version": "3.10.11"
  }
 },
 "nbformat": 4,
 "nbformat_minor": 5
}
