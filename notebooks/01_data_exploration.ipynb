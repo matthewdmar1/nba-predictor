{
 "cells": [
  {
   "cell_type": "markdown",
   "id": "b1acaf0d",
   "metadata": {},
   "source": [
    "# NBA Parlay Betting Analysis - Data Exploration\n",
    "\n",
    "This notebook explores the NBA game data and betting odds to understand patterns that might be useful for parlay betting."
   ]
  },
  {
   "cell_type": "code",
   "execution_count": null,
   "id": "a19f8251",
   "metadata": {},
   "outputs": [],
   "source": [
    "# Import necessary libraries\n",
    "import pandas as pd\n",
    "import numpy as np\n",
    "import matplotlib.pyplot as plt\n",
    "import seaborn as sns\n",
    "\n",
    "# Set plot style\n",
    "sns.set_style('whitegrid')\n",
    "plt.rcParams['figure.figsize'] = (12, 8)"
   ]
  }
 ],
 "metadata": {},
 "nbformat": 4,
 "nbformat_minor": 5
}
